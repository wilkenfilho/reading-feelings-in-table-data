{
  "nbformat": 4,
  "nbformat_minor": 0,
  "metadata": {
    "colab": {
      "name": "Análise de Sentimentos.ipynb",
      "provenance": []
    },
    "kernelspec": {
      "name": "python3",
      "display_name": "Python 3"
    },
    "language_info": {
      "name": "python"
    }
  },
  "cells": [
    {
      "cell_type": "code",
      "execution_count": null,
      "metadata": {
        "id": "RkcYG10JZ0kW"
      },
      "outputs": [],
      "source": [
        "from nltk import word_tokenize\n",
        "import nltk\n",
        "import re\n",
        "import pandas as pd\n",
        "from sklearn.feature_extraction.text import CountVectorizer\n",
        "from sklearn.naive_bayes import MultinomialNB\n",
        "from sklearn import svm\n",
        "from sklearn import metrics\n",
        "from sklearn.model_selection import cross_val_predict\n",
        "from bs4 import BeautifulSoup # para o pré-processamento\n",
        "!pip install vaderSentiment\n",
        "from leia import SentimentIntensityAnalyzer \n",
        "\n",
        "s = SentimentIntensityAnalyzer()\n",
        "\n",
        "# Análise de texto simples\n",
        "s.polarity_scores('Eu estou feliz')\n",
        "#{'neg': 0.0, 'neu': 0.328, 'pos': 0.672, 'compound': 0.6249}\n",
        "\n",
        "# Análise de texto com emoji :)\n",
        "s.polarity_scores('Eu estou feliz :)')\n",
        "#{'neg': 0.0, 'neu': 0.22, 'pos': 0.78, 'compound': 0.7964}\n",
        "\n",
        "# Análise de texto com negação\n",
        "s.polarity_scores('Eu não estou feliz')\n",
        "#{'neg': 0.265, 'neu': 0.241, 'pos': 0.494, 'compound': 0.4404}"
      ]
    },
    {
      "cell_type": "code",
      "source": [
        "df = pd.read_excel(\"/content/drive/MyDrive/Colab Notebooks/Lula_Ladrao.xlsx\")\n",
        "df.head()"
      ],
      "metadata": {
        "id": "cnR6iCOxZ3tV"
      },
      "execution_count": null,
      "outputs": []
    },
    {
      "cell_type": "code",
      "source": [
        "# função para remover as tags \n",
        "def remove_tags(texto):\n",
        "  \n",
        "  soup = BeautifulSoup(texto)\n",
        "  texto_sem_tags = soup.get_text()\n",
        "  return texto.replace(\"#\", \"\")\n",
        "\n",
        "# aplicando a coluna de title\n",
        "df['title'] = df['title'].apply(remove_tags)\n",
        "\n",
        "df.head()"
      ],
      "metadata": {
        "id": "Ss_WU6JkaXvL"
      },
      "execution_count": null,
      "outputs": []
    },
    {
      "cell_type": "code",
      "source": [
        "# importando a classe\n",
        "from vaderSentiment.vaderSentiment import SentimentIntensityAnalyzer\n",
        "\n",
        "# instanciando\n",
        "analyser = SentimentIntensityAnalyzer()\n",
        "\n",
        "def analise(texto):\n",
        " df_analisado = analyser.polarity_scores(texto)['compound'] \n",
        " return df_analisado\n",
        "\n",
        "# aplicando a função e guardando na coluna new_title\n",
        "df['new_title'] = df['title'].apply(analise)\n",
        "# vamos ver como ficou\n",
        "df['new_title'] "
      ],
      "metadata": {
        "id": "fszABR4yab1S"
      },
      "execution_count": null,
      "outputs": []
    },
    {
      "cell_type": "code",
      "source": [
        "# função que transforma valores maiores que 0 em positive e menores em negative\n",
        "def analise2(score):\n",
        "  if score > 0:\n",
        "    return 'positive'\n",
        "  elif score == 0:\n",
        "        return 'neutral'\n",
        " \n",
        "  return 'negative'\n",
        " # aplicando\n",
        "df['new_sentiment'] = df['new_title'].apply(analise2)\n",
        "df['new_sentiment']"
      ],
      "metadata": {
        "id": "7D6Bcgs9ag7J"
      },
      "execution_count": null,
      "outputs": []
    },
    {
      "cell_type": "code",
      "source": [
        "df['new_sentiment'].value_counts()\n"
      ],
      "metadata": {
        "colab": {
          "base_uri": "https://localhost:8080/"
        },
        "id": "arMKu3scakHy",
        "outputId": "12ef0bf3-7a0a-44ad-8694-f6b062fb49e7"
      },
      "execution_count": null,
      "outputs": [
        {
          "output_type": "execute_result",
          "data": {
            "text/plain": [
              "neutral     7151\n",
              "positive    1633\n",
              "negative    1216\n",
              "Name: new_sentiment, dtype: int64"
            ]
          },
          "metadata": {},
          "execution_count": 50
        }
      ]
    },
    {
      "cell_type": "code",
      "source": [
        "%matplotlib inline\n",
        "df['new_sentiment'].value_counts().plot(kind='bar')"
      ],
      "metadata": {
        "colab": {
          "base_uri": "https://localhost:8080/",
          "height": 317
        },
        "id": "I1hyAkX1ax8x",
        "outputId": "2ab75bc6-bf7b-4e18-bb4e-cf74f1485a1c"
      },
      "execution_count": null,
      "outputs": [
        {
          "output_type": "execute_result",
          "data": {
            "text/plain": [
              "<matplotlib.axes._subplots.AxesSubplot at 0x7fdf3e291d10>"
            ]
          },
          "metadata": {},
          "execution_count": 51
        },
        {
          "output_type": "display_data",
          "data": {
            "text/plain": [
              "<Figure size 432x288 with 1 Axes>"
            ],
            "image/png": "[encoded data removed]"
          },
          "metadata": {
            "needs_background": "light"
          }
        }
      ]
    },
    {
      "cell_type": "code",
      "source": [
        "df[['title', 'new_title', 'new_sentiment']].to_excel(\"lula_ladrao_sentimentos.xlsx\")"
      ],
      "metadata": {
        "id": "JoB7MjKKa2OB"
      },
      "execution_count": null,
      "outputs": []
    }
  ]
}